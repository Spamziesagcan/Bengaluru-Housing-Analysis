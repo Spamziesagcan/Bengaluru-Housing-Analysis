{
  "nbformat": 4,
  "nbformat_minor": 0,
  "metadata": {
    "colab": {
      "provenance": []
    },
    "kernelspec": {
      "name": "python3",
      "display_name": "Python 3"
    },
    "language_info": {
      "name": "python"
    }
  },
  "cells": [
    {
      "cell_type": "markdown",
      "source": [
        "1. Create an array."
      ],
      "metadata": {
        "id": "2Y9hxqFFGAyo"
      }
    },
    {
      "cell_type": "code",
      "source": [
        "import numpy as np\n",
        "\n",
        "\n",
        "marks_subject1 = np.array([85,88,90,75,92,80,85,78,88,95])\n",
        "marks_subject2 = np.array([78,79,88,85,91,76,82,89,84,87])\n",
        "marks_subject3 = np.array([92,85,76,89,83,85,90,94,78,92])\n",
        "\n",
        "print(marks_subject1)\n",
        "print(marks_subject2)\n",
        "print(marks_subject3)"
      ],
      "metadata": {
        "colab": {
          "base_uri": "https://localhost:8080/"
        },
        "id": "UZsSOdJeGR-o",
        "outputId": "25daa1ae-a339-42b3-ba26-3eabd0521c5a"
      },
      "execution_count": null,
      "outputs": [
        {
          "output_type": "stream",
          "name": "stdout",
          "text": [
            "[85 88 90 75 92 80 85 78 88 95]\n",
            "[78 79 88 85 91 76 82 89 84 87]\n",
            "[92 85 76 89 83 85 90 94 78 92]\n"
          ]
        }
      ]
    },
    {
      "cell_type": "markdown",
      "source": [
        "2. Basic statistics: mean,median,standard deviation"
      ],
      "metadata": {
        "id": "DGk55kehHUHw"
      }
    },
    {
      "cell_type": "code",
      "source": [
        "mean_marks1 = np.mean(marks_subject1)\n",
        "median_marks1 = np.median(marks_subject1)\n",
        "stddev_marks1 = np.std(marks_subject1)\n",
        "\n",
        "print(\"Mean:\", mean_marks1)\n",
        "print(\"Median:\", median_marks1)\n",
        "print(\"Standard  Deviation:\", stddev_marks1)"
      ],
      "metadata": {
        "colab": {
          "base_uri": "https://localhost:8080/"
        },
        "id": "-gloyVemHfhX",
        "outputId": "3c63ef79-4eba-47e9-a124-75f58906873c"
      },
      "execution_count": null,
      "outputs": [
        {
          "output_type": "stream",
          "name": "stdout",
          "text": [
            "Mean: 85.6\n",
            "Median: 86.5\n",
            "Standard  Deviation: 6.019966777316965\n"
          ]
        }
      ]
    },
    {
      "cell_type": "markdown",
      "source": [
        "3. Reshape the array in a 2x5 matrix."
      ],
      "metadata": {
        "id": "J4B18kEgI2G6"
      }
    },
    {
      "cell_type": "code",
      "source": [
        "reshaped_marks1 = marks_subject1.reshape(2,5)\n",
        "print(reshaped_marks1)"
      ],
      "metadata": {
        "colab": {
          "base_uri": "https://localhost:8080/"
        },
        "id": "BcALEVTEI69G",
        "outputId": "06be08f8-852f-4540-b5d8-73c3587c80bc"
      },
      "execution_count": null,
      "outputs": [
        {
          "output_type": "stream",
          "name": "stdout",
          "text": [
            "[[85 88 90 75 92]\n",
            " [80 85 78 88 95]]\n"
          ]
        }
      ]
    },
    {
      "cell_type": "markdown",
      "source": [
        "4. Access elements: access the element at row 1, column 2 of the reshaped array."
      ],
      "metadata": {
        "id": "CrkvI1k5J2iA"
      }
    },
    {
      "cell_type": "code",
      "source": [
        "element_row1_col2 = reshaped_marks1[1,2]\n",
        "print(element_row1_col2)"
      ],
      "metadata": {
        "colab": {
          "base_uri": "https://localhost:8080/"
        },
        "id": "7wBj8fXXLG4A",
        "outputId": "02f6d2a1-e7e1-49af-aba2-da6af78f2023"
      },
      "execution_count": null,
      "outputs": [
        {
          "output_type": "stream",
          "name": "stdout",
          "text": [
            "78\n"
          ]
        }
      ]
    },
    {
      "cell_type": "markdown",
      "source": [
        "5. Slicing: Slice the array to get the first 3 elements."
      ],
      "metadata": {
        "id": "0GqXcQIBLQFQ"
      }
    },
    {
      "cell_type": "code",
      "source": [
        "first3_elements = marks_subject1[0:3]\n",
        "print(first3_elements)"
      ],
      "metadata": {
        "colab": {
          "base_uri": "https://localhost:8080/"
        },
        "id": "KR8FylJZLUoa",
        "outputId": "33a688f5-58d1-4312-cb6d-6a44aef68a15"
      },
      "execution_count": null,
      "outputs": [
        {
          "output_type": "stream",
          "name": "stdout",
          "text": [
            "[85 88 90]\n"
          ]
        }
      ]
    },
    {
      "cell_type": "markdown",
      "source": [
        "6. Element-wise Operations: Add 5 to each element in the array."
      ],
      "metadata": {
        "id": "LsR2z69NLmRl"
      }
    },
    {
      "cell_type": "code",
      "source": [
        "add_5 = marks_subject1 + 5\n",
        "print(add_5)"
      ],
      "metadata": {
        "colab": {
          "base_uri": "https://localhost:8080/"
        },
        "id": "1JEhYtBvLrhA",
        "outputId": "28608fa2-1a1f-43d7-c9b8-8aabb0f1d391"
      },
      "execution_count": null,
      "outputs": [
        {
          "output_type": "stream",
          "name": "stdout",
          "text": [
            "[ 90  93  95  80  97  85  90  83  93 100]\n"
          ]
        }
      ]
    },
    {
      "cell_type": "markdown",
      "source": [
        "7. Broadcasting: Multiply each element in the array by 2 using broadcasting."
      ],
      "metadata": {
        "id": "Uqi1LKWLL4dq"
      }
    },
    {
      "cell_type": "code",
      "source": [
        "multiply_2 = marks_subject1 * 2\n",
        "print(multiply_2)"
      ],
      "metadata": {
        "colab": {
          "base_uri": "https://localhost:8080/"
        },
        "id": "thqUKelhL_Ap",
        "outputId": "905f089b-6823-4f28-fe75-1f7e19187651"
      },
      "execution_count": null,
      "outputs": [
        {
          "output_type": "stream",
          "name": "stdout",
          "text": [
            "[170 176 180 150 184 160 170 156 176 190]\n"
          ]
        }
      ]
    },
    {
      "cell_type": "markdown",
      "source": [
        "8. Matrix Multiplication: Create another array of shape (5, 2) and perform matrix multiplication."
      ],
      "metadata": {
        "id": "TsKWqLEdMWIx"
      }
    },
    {
      "cell_type": "code",
      "source": [
        "an_array = np.random.randint(1,10,(2,5))\n",
        "reshaped_marks1_mult = reshaped_marks1.reshape(5,2)\n",
        "matrix_product = np.dot(reshaped_marks1_mult, an_array)\n",
        "print(matrix_product)"
      ],
      "metadata": {
        "colab": {
          "base_uri": "https://localhost:8080/"
        },
        "id": "CcICH41eMbzZ",
        "outputId": "f3e67f6e-be8b-496c-ff2c-d9adb2c2e3b5"
      },
      "execution_count": null,
      "outputs": [
        {
          "output_type": "stream",
          "name": "stdout",
          "text": [
            "[[ 519  604 1038 1029  683]\n",
            " [ 495  585  990 1035  705]\n",
            " [ 516  608 1032 1068  724]\n",
            " [ 489  574  978  999  673]\n",
            " [ 549  637 1098 1077  711]]\n"
          ]
        }
      ]
    },
    {
      "cell_type": "markdown",
      "source": [
        "9. Transpose: Transpose the reshaped 2x5 array."
      ],
      "metadata": {
        "id": "5eXevZXGNX29"
      }
    },
    {
      "cell_type": "code",
      "source": [
        "transpose_reshaped = reshaped_marks1.T\n",
        "print(transpose_reshaped)"
      ],
      "metadata": {
        "colab": {
          "base_uri": "https://localhost:8080/"
        },
        "id": "PSapBjZiNmqA",
        "outputId": "cc8970f0-4b88-418d-cb1e-d9debf62d7fe"
      },
      "execution_count": null,
      "outputs": [
        {
          "output_type": "stream",
          "name": "stdout",
          "text": [
            "[[85 80]\n",
            " [88 85]\n",
            " [90 78]\n",
            " [75 88]\n",
            " [92 95]]\n"
          ]
        }
      ]
    },
    {
      "cell_type": "markdown",
      "source": [
        "10. Flatten: Flatten the 2x5 array back into a 1D array."
      ],
      "metadata": {
        "id": "U9zABij6NwEg"
      }
    },
    {
      "cell_type": "code",
      "source": [
        "flat_array = reshaped_marks1.flatten()\n",
        "print(flat_array)"
      ],
      "metadata": {
        "colab": {
          "base_uri": "https://localhost:8080/"
        },
        "id": "CycdmqvsN0VF",
        "outputId": "8de934bc-b8dd-41bd-9a0e-1d0a8fa0d022"
      },
      "execution_count": null,
      "outputs": [
        {
          "output_type": "stream",
          "name": "stdout",
          "text": [
            "[85 88 90 75 92 80 85 78 88 95]\n"
          ]
        }
      ]
    },
    {
      "cell_type": "markdown",
      "source": [
        "11. Concatenate: Concatenate the arrays of 'marks_subject1' and 'marks_subject2'."
      ],
      "metadata": {
        "id": "RnXdXumqOPYP"
      }
    },
    {
      "cell_type": "code",
      "source": [
        "marks_subject1 = np.array([85,88,90,75,92,80,85,78,88,95])\n",
        "marks_subject2 = np.array([78,79,88,85,91,76,82,89,84,87])\n",
        "\n",
        "concatenated_array = np.concatenate((marks_subject1, marks_subject2))\n",
        "print(concatenated_array)"
      ],
      "metadata": {
        "colab": {
          "base_uri": "https://localhost:8080/"
        },
        "id": "t8HMD-uEDLMr",
        "outputId": "69f17683-7eda-4465-d249-c4747290f9af"
      },
      "execution_count": null,
      "outputs": [
        {
          "output_type": "stream",
          "name": "stdout",
          "text": [
            "[85 88 90 75 92 80 85 78 88 95 78 79 88 85 91 76 82 89 84 87]\n"
          ]
        }
      ]
    },
    {
      "cell_type": "markdown",
      "source": [
        "12. Unique Values: Find the unique values in the concatenated array."
      ],
      "metadata": {
        "id": "jPCCk6nRF4de"
      }
    },
    {
      "cell_type": "code",
      "source": [
        "unique_values = np.unique(concatenated_array)\n",
        "print(unique_values)"
      ],
      "metadata": {
        "colab": {
          "base_uri": "https://localhost:8080/"
        },
        "id": "W1i0WLJ0OV7B",
        "outputId": "6afcba04-0a26-462f-ef20-120e5156a211"
      },
      "execution_count": null,
      "outputs": [
        {
          "output_type": "stream",
          "name": "stdout",
          "text": [
            "[75 76 78 79 80 82 84 85 87 88 89 90 91 92 95]\n"
          ]
        }
      ]
    },
    {
      "cell_type": "markdown",
      "source": [
        "13. Filter Values: Filter the values that are greater than 80 in the 'marks_subject1' array."
      ],
      "metadata": {
        "id": "cE5WQ-WWE667"
      }
    },
    {
      "cell_type": "code",
      "source": [
        "marks_subject1 = np.array([85,88,90,75,92,80,85,78,88,95])\n",
        "\n",
        "filtered_array = marks_subject1[marks_subject1 > 80]\n",
        "print(filtered_array)"
      ],
      "metadata": {
        "colab": {
          "base_uri": "https://localhost:8080/"
        },
        "id": "RinDEATZFF1E",
        "outputId": "d188f578-5e58-4504-d8ad-327aee119abc"
      },
      "execution_count": null,
      "outputs": [
        {
          "output_type": "stream",
          "name": "stdout",
          "text": [
            "[85 88 90 92 85 88 95]\n"
          ]
        }
      ]
    },
    {
      "cell_type": "markdown",
      "source": [
        "14. Sort Array: Sort the 'marks_subject2' array."
      ],
      "metadata": {
        "id": "2yjaf8LHOo-A"
      }
    },
    {
      "cell_type": "code",
      "source": [
        "sorted_marks2 = np.sort(marks_subject2)\n",
        "print(sorted_marks2)"
      ],
      "metadata": {
        "colab": {
          "base_uri": "https://localhost:8080/"
        },
        "id": "j2a6XvhXOAZ9",
        "outputId": "ec938aec-8bbc-46f5-814a-247d9887a765"
      },
      "execution_count": null,
      "outputs": [
        {
          "output_type": "stream",
          "name": "stdout",
          "text": [
            "[76 78 79 82 84 85 87 88 89 91]\n"
          ]
        }
      ]
    },
    {
      "cell_type": "markdown",
      "source": [
        "15. Stack Arrays: Stack 'marks_subject1' and 'marks_subject2' vertically."
      ],
      "metadata": {
        "id": "ox9IYzo-OH9D"
      }
    },
    {
      "cell_type": "code",
      "source": [
        "stacked_arrays = np.vstack((marks_subject1, marks_subject2))\n",
        "print(stacked_arrays)"
      ],
      "metadata": {
        "colab": {
          "base_uri": "https://localhost:8080/"
        },
        "id": "CIdGImPGOMwi",
        "outputId": "f3a57ee8-d344-4632-8260-d85230f23096"
      },
      "execution_count": null,
      "outputs": [
        {
          "output_type": "stream",
          "name": "stdout",
          "text": [
            "[[85 88 90 75 92 80 85 78 88 95]\n",
            " [78 79 88 85 91 76 82 89 84 87]]\n"
          ]
        }
      ]
    },
    {
      "cell_type": "markdown",
      "source": [
        "16. Split Array: Split the 'marks_subject1' array into two equal parts."
      ],
      "metadata": {
        "id": "12iD8mMbOVVQ"
      }
    },
    {
      "cell_type": "code",
      "source": [
        "split_arrays = np.split(marks_subject1, 2)\n",
        "print(split_arrays)"
      ],
      "metadata": {
        "colab": {
          "base_uri": "https://localhost:8080/"
        },
        "id": "Uol8DvLCOavO",
        "outputId": "257b2043-f738-4317-b287-bb0152e8fc0c"
      },
      "execution_count": null,
      "outputs": [
        {
          "output_type": "stream",
          "name": "stdout",
          "text": [
            "[array([85, 88, 90, 75, 92]), array([80, 85, 78, 88, 95])]\n"
          ]
        }
      ]
    },
    {
      "cell_type": "markdown",
      "source": [
        "17. Replace Values: Replace all elements greater than 85 in the 'marks_subject3' array with 85."
      ],
      "metadata": {
        "id": "YBgBFsO2Omui"
      }
    },
    {
      "cell_type": "code",
      "source": [
        "marks_subject3 = np.array([92,85,76,89,83,85,90,94,78,92])\n",
        "\n",
        "marks_subject3[marks_subject3 > 85] = 85\n",
        "print(marks_subject3)"
      ],
      "metadata": {
        "colab": {
          "base_uri": "https://localhost:8080/"
        },
        "id": "ezJfNupZOs7t",
        "outputId": "8e6aa85a-7aae-493d-8670-d9d1dd13c765"
      },
      "execution_count": null,
      "outputs": [
        {
          "output_type": "stream",
          "name": "stdout",
          "text": [
            "[85 85 76 85 83 85 85 85 78 85]\n"
          ]
        }
      ]
    },
    {
      "cell_type": "markdown",
      "source": [
        "18. Generate Random Numbers: Generate an array of 10 random numbers between 0 and 100."
      ],
      "metadata": {
        "id": "2Xx0WcjfO8tc"
      }
    },
    {
      "cell_type": "code",
      "source": [
        "random_numbers = np.random.randint(0, 100, 10)\n",
        "print(random_numbers)"
      ],
      "metadata": {
        "colab": {
          "base_uri": "https://localhost:8080/"
        },
        "id": "5aP22xvgPBjn",
        "outputId": "12d6cfba-2288-4d11-b37e-7c838c7858e8"
      },
      "execution_count": null,
      "outputs": [
        {
          "output_type": "stream",
          "name": "stdout",
          "text": [
            "[ 9 78 31 97 73 62 94 30 29 16]\n"
          ]
        }
      ]
    },
    {
      "cell_type": "markdown",
      "source": [
        "19. Mean of Random Numbers: Calculate the mean of the random numbers generated."
      ],
      "metadata": {
        "id": "bhZqc4SsPQM-"
      }
    },
    {
      "cell_type": "code",
      "source": [
        "mean_random_numbers = np.mean(random_numbers)\n",
        "print(mean_random_numbers)"
      ],
      "metadata": {
        "colab": {
          "base_uri": "https://localhost:8080/"
        },
        "id": "Q9P7pDe5PWO_",
        "outputId": "b986c7cc-5f9c-4e8e-8043-44e04520b3dd"
      },
      "execution_count": null,
      "outputs": [
        {
          "output_type": "stream",
          "name": "stdout",
          "text": [
            "51.9\n"
          ]
        }
      ]
    },
    {
      "cell_type": "markdown",
      "source": [
        "20. Save and Load: Save the 'marks_subject1' array to a file and then load it back."
      ],
      "metadata": {
        "id": "MGhvHinbPclN"
      }
    },
    {
      "cell_type": "code",
      "source": [
        "np.save('marks_subject1.npy', marks_subject1)\n",
        "\n",
        "loaded_marks_subject1 = np.load('marks_subject1.npy')\n",
        "print(loaded_marks_subject1)"
      ],
      "metadata": {
        "colab": {
          "base_uri": "https://localhost:8080/"
        },
        "id": "uVsZTT3YPgXA",
        "outputId": "f590fac6-6ce6-45e5-dd2a-c94002c7be73"
      },
      "execution_count": null,
      "outputs": [
        {
          "output_type": "stream",
          "name": "stdout",
          "text": [
            "[85 88 90 75 92 80 85 78 88 95]\n"
          ]
        }
      ]
    }
  ]
}